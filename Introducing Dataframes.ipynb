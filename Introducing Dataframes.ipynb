{
 "cells": [
  {
   "cell_type": "markdown",
   "metadata": {},
   "source": [
    "# PySpark Dataframes\n",
    "\n",
    "1. Import the SparkSession class:"
   ]
  },
  {
   "cell_type": "code",
   "execution_count": 1,
   "metadata": {},
   "outputs": [],
   "source": [
    "from pyspark.sql import SparkSession"
   ]
  },
  {
   "cell_type": "markdown",
   "metadata": {},
   "source": [
    "To instiate a Spark session:"
   ]
  },
  {
   "cell_type": "code",
   "execution_count": 5,
   "metadata": {},
   "outputs": [],
   "source": [
    "spark = SparkSession \\\n",
    "    .builder \\\n",
    "    .appName(\"First PySpark App\") \\\n",
    "    .getOrCreate()"
   ]
  },
  {
   "cell_type": "markdown",
   "metadata": {},
   "source": [
    "3. Take a look at the session object:\n"
   ]
  },
  {
   "cell_type": "code",
   "execution_count": 6,
   "metadata": {},
   "outputs": [
    {
     "data": {
      "text/html": [
       "\n",
       "            <div>\n",
       "                <p><b>SparkSession - in-memory</b></p>\n",
       "                \n",
       "        <div>\n",
       "            <p><b>SparkContext</b></p>\n",
       "\n",
       "            <p><a href=\"http://3988007fbc3c:4041\">Spark UI</a></p>\n",
       "\n",
       "            <dl>\n",
       "              <dt>Version</dt>\n",
       "                <dd><code>v3.3.0</code></dd>\n",
       "              <dt>Master</dt>\n",
       "                <dd><code>local[*]</code></dd>\n",
       "              <dt>AppName</dt>\n",
       "                <dd><code>First PySpark App</code></dd>\n",
       "            </dl>\n",
       "        </div>\n",
       "        \n",
       "            </div>\n",
       "        "
      ],
      "text/plain": [
       "<pyspark.sql.session.SparkSession at 0x7844600d0a90>"
      ]
     },
     "execution_count": 6,
     "metadata": {},
     "output_type": "execute_result"
    }
   ],
   "source": [
    "spark"
   ]
  },
  {
   "cell_type": "markdown",
   "metadata": {},
   "source": [
    "4. Read the contents of a csv file into a Dataframe named 'accounts':\n"
   ]
  },
  {
   "cell_type": "code",
   "execution_count": 7,
   "metadata": {},
   "outputs": [],
   "source": [
    "accounts = spark.read.option('header', 'true').csv('./data/accounts.csv')"
   ]
  },
  {
   "cell_type": "markdown",
   "metadata": {},
   "source": [
    "5. Take a look at the Dataframe's schema:\n"
   ]
  },
  {
   "cell_type": "code",
   "execution_count": 8,
   "metadata": {},
   "outputs": [
    {
     "name": "stdout",
     "output_type": "stream",
     "text": [
      "root\n",
      " |-- account_number: string (nullable = true)\n",
      " |-- aba: string (nullable = true)\n",
      " |-- bic: string (nullable = true)\n",
      " |-- opened: string (nullable = true)\n",
      " |-- balance: string (nullable = true)\n",
      "\n"
     ]
    }
   ],
   "source": [
    "accounts.printSchema()"
   ]
  },
  {
   "cell_type": "markdown",
   "metadata": {},
   "source": [
    "6. Read the contents of a parquet file into a variable:"
   ]
  },
  {
   "cell_type": "code",
   "execution_count": 11,
   "metadata": {},
   "outputs": [],
   "source": [
    "transactions = spark.read.option(\"header\", True).parquet('./data/transactions.parquet')"
   ]
  },
  {
   "cell_type": "markdown",
   "metadata": {},
   "source": [
    "7. See how many rows are in the new Dataframe:"
   ]
  },
  {
   "cell_type": "code",
   "execution_count": 12,
   "metadata": {},
   "outputs": [
    {
     "data": {
      "text/plain": [
       "1000000"
      ]
     },
     "execution_count": 12,
     "metadata": {},
     "output_type": "execute_result"
    }
   ],
   "source": [
    "transactions.count()"
   ]
  },
  {
   "cell_type": "code",
   "execution_count": 16,
   "metadata": {},
   "outputs": [
    {
     "name": "stdout",
     "output_type": "stream",
     "text": [
      "+------------------+------+----------+\n",
      "|    account_number|amount|  datetime|\n",
      "+------------------+------+----------+\n",
      "|GSHP69974285041169| -9034|2022-09-08|\n",
      "|LVTT31407534039456| -2952|2022-04-02|\n",
      "|RJSO40371783238228|  3405|2022-05-02|\n",
      "|UOIH17449189991636| -4049|2022-10-07|\n",
      "|FBXP58394333953676| -4157|2022-06-22|\n",
      "+------------------+------+----------+\n",
      "only showing top 5 rows\n",
      "\n"
     ]
    }
   ],
   "source": [
    "transactions.show(5)"
   ]
  },
  {
   "cell_type": "markdown",
   "metadata": {},
   "source": [
    "8. Make a new Dataframe by grouping the transactions by account number and summing the groups. This will combine the transactions per account:"
   ]
  },
  {
   "cell_type": "code",
   "execution_count": 13,
   "metadata": {},
   "outputs": [],
   "source": [
    "account_transactions = transactions.groupby('account_number').sum()"
   ]
  },
  {
   "cell_type": "markdown",
   "metadata": {},
   "source": [
    "9. Combine the accounts with the summed transaction values:"
   ]
  },
  {
   "cell_type": "code",
   "execution_count": 14,
   "metadata": {},
   "outputs": [],
   "source": [
    "with_sum = accounts.join(account_transactions, 'account_number', 'inner')"
   ]
  },
  {
   "cell_type": "code",
   "execution_count": 17,
   "metadata": {},
   "outputs": [
    {
     "name": "stdout",
     "output_type": "stream",
     "text": [
      "+------------------+---------+-----------+----------+-------+-----------+\n",
      "|    account_number|      aba|        bic|    opened|balance|sum(amount)|\n",
      "+------------------+---------+-----------+----------+-------+-----------+\n",
      "|FBXK78425844480007|125056531|   TFJQGB5D|2014-05-07| 710027|     -99434|\n",
      "|XJIU55438863095422|036174230|   KILTGB3K|2009-12-18| 339452|      77947|\n",
      "|XBYT37304125118047|061333512|UVXHGB0SHJC|2013-12-21| 948840|      65101|\n",
      "|UQSE17000937342665|028459374|JBPYGB7X207|2009-07-30| 928422|     118473|\n",
      "|KWOU43650129218895|038163281|   PHLOGB1V|2016-06-14|1119190|     -35411|\n",
      "|FNUS11547939884469|048504775|   KVXDGBQT|2001-06-23| 911119|     -61117|\n",
      "|RWKR28406701224417|085114102|   INMGGB96|2013-10-13|1291803|      12973|\n",
      "|NPLS84562938853238|125331256|   IHEAGB8O|2015-05-21| 933824|     -93579|\n",
      "|FZHT89141815092168|018700127|NAIYGBBS2HS|2018-02-16|1926118|     -26762|\n",
      "|KNLA77840498184902|093772264|   SFLUGBG7|2020-06-19|1291060|      46427|\n",
      "+------------------+---------+-----------+----------+-------+-----------+\n",
      "only showing top 10 rows\n",
      "\n"
     ]
    }
   ],
   "source": [
    "with_sum.show(10)"
   ]
  },
  {
   "cell_type": "markdown",
   "metadata": {},
   "source": [
    "10. Get the current balance per account by summing the transaction sums with the initial account balance:"
   ]
  },
  {
   "cell_type": "code",
   "execution_count": 18,
   "metadata": {},
   "outputs": [],
   "source": [
    "accounts = with_sum.withColumn('new_balance', sum([with_sum.balance, with_sum['sum(amount)']]))"
   ]
  },
  {
   "cell_type": "markdown",
   "metadata": {},
   "source": [
    "11. Get accounts with negative current balances:"
   ]
  },
  {
   "cell_type": "code",
   "execution_count": 19,
   "metadata": {},
   "outputs": [],
   "source": [
    "neg_balance = accounts.filter(accounts.new_balance < 0)"
   ]
  },
  {
   "cell_type": "markdown",
   "metadata": {},
   "source": [
    "12. Read client data from a json file:"
   ]
  },
  {
   "cell_type": "code",
   "execution_count": 20,
   "metadata": {},
   "outputs": [],
   "source": [
    "clients = spark.read.json('./data/clients.json')"
   ]
  },
  {
   "cell_type": "markdown",
   "metadata": {},
   "source": [
    "13. Get the clients with a negative balance:\n"
   ]
  },
  {
   "cell_type": "code",
   "execution_count": 21,
   "metadata": {},
   "outputs": [],
   "source": [
    "clients = clients.join(neg_balance, 'account_number', 'inner')"
   ]
  },
  {
   "cell_type": "code",
   "execution_count": 22,
   "metadata": {},
   "outputs": [
    {
     "name": "stdout",
     "output_type": "stream",
     "text": [
      "root\n",
      " |-- account_number: string (nullable = true)\n",
      " |-- address: string (nullable = true)\n",
      " |-- email: string (nullable = true)\n",
      " |-- first_name: string (nullable = true)\n",
      " |-- last_name: string (nullable = true)\n",
      " |-- aba: string (nullable = true)\n",
      " |-- bic: string (nullable = true)\n",
      " |-- opened: string (nullable = true)\n",
      " |-- balance: string (nullable = true)\n",
      " |-- sum(amount): long (nullable = true)\n",
      " |-- new_balance: double (nullable = true)\n",
      "\n"
     ]
    }
   ],
   "source": [
    "clients.printSchema()"
   ]
  },
  {
   "cell_type": "markdown",
   "metadata": {},
   "source": [
    "14. Look at the top five clients with negative balances:"
   ]
  },
  {
   "cell_type": "code",
   "execution_count": 23,
   "metadata": {},
   "outputs": [
    {
     "name": "stdout",
     "output_type": "stream",
     "text": [
      "+----------+---------+------------------+-----------+\n",
      "|first_name|last_name|    account_number|new_balance|\n",
      "+----------+---------+------------------+-----------+\n",
      "|    Meagan| Sandoval|JMTP45763117901514|   -27573.0|\n",
      "|  Michelle|   Knight|RBUE05237750254383|  -103459.0|\n",
      "|      Paul|   Massey|RJMY57096756148587|   -58329.0|\n",
      "|  Michelle|    Perez|ZYMB62177146259441|   -55431.0|\n",
      "|     David|    Green|LRTH65732611614073|  -103831.0|\n",
      "+----------+---------+------------------+-----------+\n",
      "only showing top 5 rows\n",
      "\n"
     ]
    }
   ],
   "source": [
    "clients.select(['first_name','last_name','account_number', 'new_balance']).show(5)"
   ]
  },
  {
   "cell_type": "markdown",
   "metadata": {},
   "source": [
    "Name: Islam Mammadov \\\n",
    "Date: 06/24/2025"
   ]
  }
 ],
 "metadata": {
  "kernelspec": {
   "display_name": "Python 3",
   "language": "python",
   "name": "python3"
  },
  "language_info": {
   "codemirror_mode": {
    "name": "ipython",
    "version": 3
   },
   "file_extension": ".py",
   "mimetype": "text/x-python",
   "name": "python",
   "nbconvert_exporter": "python",
   "pygments_lexer": "ipython3",
   "version": "3.7.6"
  }
 },
 "nbformat": 4,
 "nbformat_minor": 4
}
